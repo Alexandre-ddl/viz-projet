{
 "cells": [
  {
   "cell_type": "code",
   "execution_count": null,
   "metadata": {},
   "outputs": [],
   "source": [
    "import pandas as pd\n",
    "import altair as alt\n",
    "import json\n",
    "\n",
    "alt.renderers.enable('default')\n",
    "\n",
    "df = pd.read_csv('../datas/dpt2020.csv', sep=';')\n",
    "df_male = df[df['sexe'] == 1]\n",
    "\n",
    "df_top = df_male.sort_values(['dpt', 'annais', 'nombre'], ascending=[True, True, False])\n",
    "df_top = df_top.groupby(['dpt', 'annais']).first().reset_index()\n",
    "\n",
    "def count_name_changes(group):\n",
    "    return group['preusuel'].ne(group['preusuel'].shift()).sum()\n",
    "\n",
    "name_changes = df_top.groupby('dpt', group_keys=False).apply(count_name_changes).reset_index(name='changes')\n",
    "years = df_top.groupby('dpt')['annais'].nunique().reset_index(name='n_years')\n",
    "instability = pd.merge(name_changes, years, on='dpt')\n",
    "instability['instability'] = instability['changes'] / instability['n_years']\n",
    "\n",
    "with open('../datas/departements.geojson', 'r') as f:\n",
    "    france_geo = json.load(f)\n",
    "\n",
    "chart = alt.Chart(alt.Data(values=france_geo['features'])).mark_geoshape(\n",
    "    stroke='white'\n",
    ").encode(\n",
    "    color=alt.Color('instability:Q', scale=alt.Scale(scheme='oranges'), title='Instabilité'),\n",
    "    tooltip=[\n",
    "        alt.Tooltip('properties.nom:N', title='Département'),\n",
    "        alt.Tooltip('instability:Q', format=\".2f\", title='Instabilité')\n",
    "    ]\n",
    ").transform_lookup(\n",
    "    lookup='properties.code',\n",
    "    from_=alt.LookupData(instability, 'dpt', ['instability'])\n",
    ").project(\n",
    "    type='mercator'\n",
    ").properties(\n",
    "    width=800,\n",
    "    height=800,\n",
    "    title='Instabilité des prénoms masculins en tête par département'\n",
    ")\n",
    "\n",
    "chart"
   ]
  }
 ],
 "metadata": {
  "language_info": {
   "name": "python"
  }
 },
 "nbformat": 4,
 "nbformat_minor": 2
}
